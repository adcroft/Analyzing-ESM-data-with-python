{
 "cells": [
  {
   "cell_type": "markdown",
   "metadata": {},
   "source": [
    "# Basics of accessing data\n",
    "\n",
    "## About netcdf\n",
    "\n",
    "Most data used in the ESM world is gridded and stored using the netCDF format. Unfortunatly, weather models use other formats which we will simply have to ignore here. The netCDF format is a protocol for putting data in files which are not human readable but the protocol means you can read them on any computer with the appropriate (freely available) tools.\n",
    "\n",
    "The most widely used python package for reading and writing netCDF files is \"netCDF4\" (obtained with `conda install netcdf4`). There are other packages but netCDF4 seems to be the most versatile and compatible with all formats. The \"scipy.io.netcdf\" package is included in scipy but is only compatible with version 3 files. Version 4 files use HDF5 under-the-hood for which netCDF4 works well.\n",
    "\n",
    "Access the netCDF4 package, using the following (usually at the top of your notebook):"
   ]
  },
  {
   "cell_type": "code",
   "execution_count": 1,
   "metadata": {},
   "outputs": [],
   "source": [
    "import netCDF4"
   ]
  },
  {
   "cell_type": "markdown",
   "metadata": {},
   "source": [
    "Here we will walk through some specific operations using netCDF4.Dataset. To find out more about the netCDF4 package you can do\n",
    "```python\n",
    "help(netCDF4)\n",
    "```\n",
    "to get extensive information.\n",
    "\n",
    "## Opening a dataset\n",
    "\n",
    "Before looking at model output, let's look at some regularly gridded data. We'll use data served by the Lamont-Doherty Earth Observatory who have a good collection of products and gridded data. You will need to be connected to the Internet to do the following:"
   ]
  },
  {
   "cell_type": "code",
   "execution_count": 2,
   "metadata": {},
   "outputs": [],
   "source": [
    "nc = netCDF4.Dataset('http://iridl.ldeo.columbia.edu/SOURCES/.NOAA/.NODC/.WOA05/.Grid-5x5/.Annual/.mn/.temperature/dods')"
   ]
  },
  {
   "cell_type": "markdown",
   "metadata": {},
   "source": [
    "Several things to note:\n",
    "\n",
    "- The argument to `netCDF4.Dataset()` is a URL, rather than a file name. Often you will be working with local files in which case the argument would be a path to the file(s) of interest.\n",
    "- The cell should have executed quickly (maybe with no delay at all). This is because `netCDF4.Dataset()` fetches/reads only the meta-data and not the actual data. Usually, the meta-data is small compared to the actual data.\n",
    "- We stored the results of `netCDF4.Dataset()` in the variable `nc`. The name of this variable is arbitrary - we could just as easily have used `fred = netCDF4.Dataset(...)`. Here, I chose `nc` to be short for netCDF container.\n",
    "\n",
    "Let's look at what `netCDF4.Dataset()` returned."
   ]
  },
  {
   "cell_type": "code",
   "execution_count": 3,
   "metadata": {},
   "outputs": [
    {
     "name": "stdout",
     "output_type": "stream",
     "text": [
      "<class 'netCDF4._netCDF4.Dataset'>\n",
      "root group (NETCDF3_CLASSIC data model, file format DAP2):\n",
      "    Conventions: IRIDL\n",
      "    dimensions(sizes): X(72), Y(36), Z(33)\n",
      "    variables(dimensions): float32 \u001b[4mY\u001b[0m(Y), float32 \u001b[4mZ\u001b[0m(Z), float32 \u001b[4mX\u001b[0m(X), float32 \u001b[4mtemperature\u001b[0m(Z,Y,X)\n",
      "    groups: \n",
      "\n"
     ]
    }
   ],
   "source": [
    "print(nc)"
   ]
  },
  {
   "cell_type": "markdown",
   "metadata": {},
   "source": [
    "`netCDF4.Dataset()` returned an object that is a \"class\" defined by the netCDF4 package. We can see the following details:\n",
    "\n",
    "- The file format is actually using the older NETCDF3 protocol so scipy.io.netcdf would work on this file.\n",
    "- The conventions used in the file are \"IRIDL\" meaning IRI Data Library. More on conventions later.\n",
    "- The data could be up to three dimensional with the dimensions being \"X\", \"Y\", and \"Z\", and with lengths, 72, 36 and 33, respectively.\n",
    "- There are four variables \"X\", \"Y\", \"Z\" and \"temperature\".\n",
    "  - \"X\", \"Y\", and \"Z\" are one-dimensional with the lengths of their namesake dimension, i.e. X has length X or 72. This is a part of the IRIDL convention and is shared with other conventions such as CF. Such __variables that share names with a dimension and with length of that dimension are referred to as \"dimension variables\"__. They are special and are convenient to use as coordinates when the coordinate system is orthogonal and Cartesian.\n",
    "  - \"temperature\" has dimensions \"Z,Y,X\" so is three dimensional. The order of dimensions matters.\n",
    "\n",
    "## Variables\n",
    "\n",
    "Here's another way to see what variables are in the dataset:"
   ]
  },
  {
   "cell_type": "code",
   "execution_count": 4,
   "metadata": {},
   "outputs": [
    {
     "name": "stdout",
     "output_type": "stream",
     "text": [
      "OrderedDict([('Y', <class 'netCDF4._netCDF4.Variable'>\n",
      "float32 Y(Y)\n",
      "    pointwidth: 5.0\n",
      "    standard_name: latitude\n",
      "    gridtype: 0\n",
      "    units: degree_north\n",
      "unlimited dimensions: \n",
      "current shape = (36,)\n",
      "filling off\n",
      "), ('Z', <class 'netCDF4._netCDF4.Variable'>\n",
      "float32 Z(Z)\n",
      "    positive: down\n",
      "    gridtype: 0\n",
      "    units: m\n",
      "unlimited dimensions: \n",
      "current shape = (33,)\n",
      "filling off\n",
      "), ('X', <class 'netCDF4._netCDF4.Variable'>\n",
      "float32 X(X)\n",
      "    pointwidth: 5.0\n",
      "    standard_name: longitude\n",
      "    gridtype: 1\n",
      "    units: degree_east\n",
      "unlimited dimensions: \n",
      "current shape = (72,)\n",
      "filling off\n",
      "), ('temperature', <class 'netCDF4._netCDF4.Variable'>\n",
      "float32 temperature(Z, Y, X)\n",
      "    units: Celsius_scale\n",
      "    missing_value: -99.9999\n",
      "    long_name: Temperature\n",
      "unlimited dimensions: \n",
      "current shape = (33, 36, 72)\n",
      "filling off\n",
      ")])\n"
     ]
    }
   ],
   "source": [
    "print(nc.variables)"
   ]
  },
  {
   "cell_type": "markdown",
   "metadata": {},
   "source": [
    "We see that `nc.variables` is a python dictionary (`OrderedDict`) with keys \"X\", \"Y\", \"Z\" and \"temperature\", each pointing to a `netCDF4.Variable` object. Those objects contain information such as units, data shape, and so on, which is not displayed very cleanly.\n",
    "\n",
    "Knowing that `nc.variables` is a python dictionary we can get a more concise summary with:"
   ]
  },
  {
   "cell_type": "code",
   "execution_count": 5,
   "metadata": {},
   "outputs": [
    {
     "name": "stdout",
     "output_type": "stream",
     "text": [
      "odict_keys(['Y', 'Z', 'X', 'temperature'])\n"
     ]
    }
   ],
   "source": [
    "print(nc.variables.keys())"
   ]
  },
  {
   "cell_type": "markdown",
   "metadata": {},
   "source": [
    "or"
   ]
  },
  {
   "cell_type": "code",
   "execution_count": 6,
   "metadata": {},
   "outputs": [
    {
     "name": "stdout",
     "output_type": "stream",
     "text": [
      "Y\n",
      "Z\n",
      "X\n",
      "temperature\n"
     ]
    }
   ],
   "source": [
    "for v in nc.variables:\n",
    "    print(v)"
   ]
  },
  {
   "cell_type": "markdown",
   "metadata": {},
   "source": [
    "To access one entry of a python dictionary use the `dict[key]` syntax. For `nc.variables` the keys are 'X', 'Y', 'Z' and 'temperature'.\n",
    "\n",
    "Let's examine the 'Z' object:"
   ]
  },
  {
   "cell_type": "code",
   "execution_count": 7,
   "metadata": {},
   "outputs": [
    {
     "name": "stdout",
     "output_type": "stream",
     "text": [
      "<class 'netCDF4._netCDF4.Variable'>\n",
      "float32 Z(Z)\n",
      "    positive: down\n",
      "    gridtype: 0\n",
      "    units: m\n",
      "unlimited dimensions: \n",
      "current shape = (33,)\n",
      "filling off\n",
      "\n"
     ]
    }
   ],
   "source": [
    "print(nc.variables['Z'])"
   ]
  },
  {
   "cell_type": "markdown",
   "metadata": {},
   "source": [
    "This is what we saw before when we looked at `nc.variables` but now we have a more manageable volume of information (just the one variable).\n",
    "- The data type is 32-bit float (or real*4 in Fortran).\n",
    "- Positive Z means downward (Z is more like depth!).\n",
    "- Z has units of meters (\"m\").\n",
    "- There are 33 Z values.\n",
    "\n",
    "## Reading all or part of a 1-d data array\n",
    "So far we have only seen meta-data, either about the file or about variables within the file.\n",
    "\n",
    "To see actual values of a variable we use python slices (i.e. things like `[:]`, or `[:2]`). Remember that when using the `[s:e]` notation, the vector starts with index \"s\" but stops before index \"e\". A missing index implies the full extent.\n",
    "\n",
    "For an one-dimensional array or list, A, with size n:\n",
    "- `A[s:e]` gives elements s, s+1, ..., e-2, e-1\n",
    "- `A[:e]` gives elements 0, 1, ..., e-2, e-1\n",
    "- `A[s:]` gives elements s, s+1, ..., n-2, n-1\n",
    "- `A[:]` gives elements 0, 1, ..., n-2, n-1\n",
    "- `A[:-1]` gives elements 0, 1, ..., n-3, n-2\n",
    "- `A[-3:]` gives elements n-3, n-2, n-1\n",
    "- `A[-4:-1]` gives elements n-4, n-3, n-2\n",
    "\n",
    "Only now, when we specify a slice of data, will the data values actually be read by python:"
   ]
  },
  {
   "cell_type": "code",
   "execution_count": 8,
   "metadata": {},
   "outputs": [
    {
     "data": {
      "text/plain": [
       "masked_array(data=[   0.,   10.,   20.,   30.,   50.,   75.,  100.,  125.,\n",
       "                    150.,  200.,  250.,  300.,  400.,  500.,  600.,  700.,\n",
       "                    800.,  900., 1000., 1100., 1200., 1300., 1400., 1500.,\n",
       "                   1750., 2000., 2500., 3000., 3500., 4000., 4500., 5000.,\n",
       "                   5500.],\n",
       "             mask=False,\n",
       "       fill_value=1e+20,\n",
       "            dtype=float32)"
      ]
     },
     "execution_count": 8,
     "metadata": {},
     "output_type": "execute_result"
    }
   ],
   "source": [
    "nc.variables['Z'][:]"
   ]
  },
  {
   "cell_type": "markdown",
   "metadata": {},
   "source": [
    "The returned data is in the form of a \"masked_array\" which is a numpy class (https://docs.scipy.org/doc/numpy/reference/maskedarray.html). This means the file/variable can support missing data. For coordinate data you more often get a simple \"array\" (https://docs.scipy.org/doc/numpy/reference/arrays.html).\n",
    "\n",
    "Masked arrays have a .mask attribute which is usually a boolean array. Where True, the data is masked out or missing.\n",
    "\n",
    "The fill_value is the value the array will appear to have where it is missing. You should never need to know this but when plotting data, if you ever see scales up to \"1e+20\" then the masking isn't working properly.\n",
    "\n",
    "_Note that I omitted the `print()` command_. This is a convenient feature but be warned jupyter only displays the results of the last command. To be sure of seeing output it is generally safer to always use `print()`. However, the output is sometimes different as we can see here:"
   ]
  },
  {
   "cell_type": "code",
   "execution_count": 9,
   "metadata": {},
   "outputs": [
    {
     "name": "stdout",
     "output_type": "stream",
     "text": [
      "[   0.   10.   20.   30.   50.   75.  100.  125.  150.  200.  250.  300.\n",
      "  400.  500.  600.  700.  800.  900. 1000. 1100. 1200. 1300. 1400. 1500.\n",
      " 1750. 2000. 2500. 3000. 3500. 4000. 4500. 5000. 5500.]\n"
     ]
    }
   ],
   "source": [
    "print(nc.variables['Z'][:])"
   ]
  },
  {
   "cell_type": "markdown",
   "metadata": {},
   "source": [
    "Aside: _The display of `nc.variables['Z'][:]` is dependent on context: within a print or `__str__()` context then just the values are returned, but for the `__repr__()` context the underlying object is returned. This is a detail of interest only if you are building/extending classes and likely of no use to you other than as an explanation of why there is a difference between the commands `print(nc.variables['Z'][:])` and `nc.variables['Z'][:]`._\n",
    "\n",
    "To read only the first five depths:"
   ]
  },
  {
   "cell_type": "code",
   "execution_count": 10,
   "metadata": {},
   "outputs": [
    {
     "name": "stdout",
     "output_type": "stream",
     "text": [
      "[ 0. 10. 20. 30. 50.]\n"
     ]
    }
   ],
   "source": [
    "print(nc.variables['Z'][:5])"
   ]
  },
  {
   "cell_type": "markdown",
   "metadata": {},
   "source": [
    "The last value can be found using negative indexing:"
   ]
  },
  {
   "cell_type": "code",
   "execution_count": 11,
   "metadata": {},
   "outputs": [
    {
     "name": "stdout",
     "output_type": "stream",
     "text": [
      "5500.0\n"
     ]
    }
   ],
   "source": [
    "print(nc.variables['Z'][-1])"
   ]
  },
  {
   "cell_type": "markdown",
   "metadata": {},
   "source": [
    "Python uses C-conventions so the first value is obtained with index 0:"
   ]
  },
  {
   "cell_type": "code",
   "execution_count": 12,
   "metadata": {},
   "outputs": [
    {
     "name": "stdout",
     "output_type": "stream",
     "text": [
      "0.0\n"
     ]
    }
   ],
   "source": [
    "print(nc.variables['Z'][0])"
   ]
  },
  {
   "cell_type": "markdown",
   "metadata": {},
   "source": [
    "## Shape of data\n",
    "\n",
    "numpy arrays have shape and the `.shape` attribute returns a tuple with the shape of the variable or data. `.shape` works on netCDF4.Variable objects without reading the data. Here are some examples:"
   ]
  },
  {
   "cell_type": "code",
   "execution_count": 13,
   "metadata": {},
   "outputs": [
    {
     "name": "stdout",
     "output_type": "stream",
     "text": [
      "nc.variables['Z'].shape = (33,)\n",
      "nc.variables['Z'][:].shape = (33,)\n",
      "nc.variables['Z'][:5].shape = (5,)\n",
      "nc.variables['Z'][2:5].shape = (3,)\n"
     ]
    }
   ],
   "source": [
    "print( \"nc.variables['Z'].shape =\", nc.variables['Z'].shape )\n",
    "print( \"nc.variables['Z'][:].shape =\", nc.variables['Z'][:].shape )\n",
    "print( \"nc.variables['Z'][:5].shape =\", nc.variables['Z'][:5].shape )\n",
    "print( \"nc.variables['Z'][2:5].shape =\", nc.variables['Z'][2:5].shape )"
   ]
  },
  {
   "cell_type": "markdown",
   "metadata": {},
   "source": [
    "## Reading multi-dimensional data\n",
    "\n",
    "Now we'll look at the shape of slices from the three dimensional variable:"
   ]
  },
  {
   "cell_type": "code",
   "execution_count": 14,
   "metadata": {},
   "outputs": [
    {
     "data": {
      "text/plain": [
       "(33, 36, 72)"
      ]
     },
     "execution_count": 14,
     "metadata": {},
     "output_type": "execute_result"
    }
   ],
   "source": [
    "nc.variables['temperature'].shape"
   ]
  },
  {
   "cell_type": "markdown",
   "metadata": {},
   "source": [
    "It is generally good practice to __not__ load all data unnecessarily. The above command returned the shape without reading all the data into memory. The following reads all the data and then returns the shape:"
   ]
  },
  {
   "cell_type": "code",
   "execution_count": 15,
   "metadata": {},
   "outputs": [
    {
     "data": {
      "text/plain": [
       "(33, 36, 72)"
      ]
     },
     "execution_count": 15,
     "metadata": {},
     "output_type": "execute_result"
    }
   ],
   "source": [
    "nc.variables['temperature'][:,:,:].shape"
   ]
  },
  {
   "cell_type": "markdown",
   "metadata": {},
   "source": [
    "The multiple colons are explicitly saying \"all elements\" along each dimension for which there is a colon (three dimensions in this case).\n",
    "\n",
    "The same can be managed with _implicit_ ranges simply by omission:"
   ]
  },
  {
   "cell_type": "code",
   "execution_count": 16,
   "metadata": {},
   "outputs": [
    {
     "data": {
      "text/plain": [
       "(33, 36, 72)"
      ]
     },
     "execution_count": 16,
     "metadata": {},
     "output_type": "execute_result"
    }
   ],
   "source": [
    "nc.variables['temperature'][:,:].shape"
   ]
  },
  {
   "cell_type": "code",
   "execution_count": 17,
   "metadata": {},
   "outputs": [
    {
     "data": {
      "text/plain": [
       "(33, 36, 72)"
      ]
     },
     "execution_count": 17,
     "metadata": {},
     "output_type": "execute_result"
    }
   ],
   "source": [
    "nc.variables['temperature'][:].shape"
   ]
  },
  {
   "cell_type": "markdown",
   "metadata": {},
   "source": [
    "So not specifying the slice on a dimensions defaults to the whole dimension.\n",
    "\n",
    "Now suppose we want a multi-dimensional subset of the data. The following returns the shape of surface temperature because:\n",
    "\n",
    "- the first dimension for \"temperature\" is Z;\n",
    "- Z points downward so the first value is the shallowest;\n",
    "- the first index in a dimension is 0."
   ]
  },
  {
   "cell_type": "code",
   "execution_count": 18,
   "metadata": {},
   "outputs": [
    {
     "data": {
      "text/plain": [
       "(36, 72)"
      ]
     },
     "execution_count": 18,
     "metadata": {},
     "output_type": "execute_result"
    }
   ],
   "source": [
    "nc.variables['temperature'][0,:,:].shape"
   ]
  },
  {
   "cell_type": "markdown",
   "metadata": {},
   "source": [
    "Because of implicit slices on omitted dimensions, the following give the same result:"
   ]
  },
  {
   "cell_type": "code",
   "execution_count": 19,
   "metadata": {},
   "outputs": [
    {
     "data": {
      "text/plain": [
       "(36, 72)"
      ]
     },
     "execution_count": 19,
     "metadata": {},
     "output_type": "execute_result"
    }
   ],
   "source": [
    "nc.variables['temperature'][0,:].shape"
   ]
  },
  {
   "cell_type": "code",
   "execution_count": 20,
   "metadata": {},
   "outputs": [
    {
     "data": {
      "text/plain": [
       "(36, 72)"
      ]
     },
     "execution_count": 20,
     "metadata": {},
     "output_type": "execute_result"
    }
   ],
   "source": [
    "nc.variables['temperature'][0].shape"
   ]
  },
  {
   "cell_type": "markdown",
   "metadata": {},
   "source": [
    "We can do the same along other dimensions. To sample all data corresponding to the 5'th Y element:"
   ]
  },
  {
   "cell_type": "code",
   "execution_count": 21,
   "metadata": {},
   "outputs": [
    {
     "data": {
      "text/plain": [
       "(33, 72)"
      ]
     },
     "execution_count": 21,
     "metadata": {},
     "output_type": "execute_result"
    }
   ],
   "source": [
    "nc.variables['temperature'][:,4,:].shape"
   ]
  },
  {
   "cell_type": "code",
   "execution_count": 22,
   "metadata": {},
   "outputs": [
    {
     "data": {
      "text/plain": [
       "(33, 72)"
      ]
     },
     "execution_count": 22,
     "metadata": {},
     "output_type": "execute_result"
    }
   ],
   "source": [
    "nc.variables['temperature'][:,4].shape"
   ]
  },
  {
   "cell_type": "markdown",
   "metadata": {},
   "source": [
    "As an extra, if you want implicit \":\" for all but the last dimensions then the following works:"
   ]
  },
  {
   "cell_type": "code",
   "execution_count": 23,
   "metadata": {},
   "outputs": [
    {
     "data": {
      "text/plain": [
       "(33, 36)"
      ]
     },
     "execution_count": 23,
     "metadata": {},
     "output_type": "execute_result"
    }
   ],
   "source": [
    "nc.variables['temperature'][...,0].shape"
   ]
  }
 ],
 "metadata": {
  "kernelspec": {
   "display_name": "Python 3",
   "language": "python",
   "name": "python3"
  },
  "language_info": {
   "codemirror_mode": {
    "name": "ipython",
    "version": 3
   },
   "file_extension": ".py",
   "mimetype": "text/x-python",
   "name": "python",
   "nbconvert_exporter": "python",
   "pygments_lexer": "ipython3",
   "version": "3.7.1"
  }
 },
 "nbformat": 4,
 "nbformat_minor": 2
}
