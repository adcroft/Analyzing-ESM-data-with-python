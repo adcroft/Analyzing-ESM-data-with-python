{
 "cells": [
  {
   "cell_type": "markdown",
   "metadata": {},
   "source": [
    "# Introduction\n",
    "\n",
    "The point of these notes is to provide a crash course in using python to examine numerical Earth System Model (ESM) output. They are also an excuse to evaluate and compare various packages that you might find useful in their analysis of ESM output. These notes are _not a recommendation about which packages you should or should not use_. All packages have advantages and drawbacks and in my opinion are each are ideal for some tasks for which they were designed. Kudos to all the respective developers. I tend to use all the packages encountered in theses notes - I find being versatile helpful in what I do but you might prefer to choose one package for the comfort of familiarity."
   ]
  },
  {
   "cell_type": "markdown",
   "metadata": {},
   "source": [
    "## How to use these notes\n",
    "\n",
    "These notes are written using Jupyter notebooks. You can view or use them in multiple ways; interactively or passively, downloaded or on the web."
   ]
  },
  {
   "cell_type": "markdown",
   "metadata": {},
   "source": [
    "### Interactive jupyter notebooks (recommended)\n",
    "\n",
    "To be able to run these notebooks you need python (which is the point of the notes!) and jupyter (which sits above python and works with 200+ languages). You will have to clone the repository or download and unpack a zip file.\n",
    "\n",
    "To clone using `git`, you will obviously need `git` installed. Then\n",
    "```bash\n",
    "git clone https://github.com/adcroft/Analyzing-ESM-data-with-python.git\n",
    "```\n",
    "\n",
    "To download a zip file go to https://github.com/adcroft/Analyzing-ESM-data-with-python and click the green \"Clone or download\" button and then \"Download ZIP\", or just click https://github.com/adcroft/Analyzing-ESM-data-with-python/archive/master.zip. Once downloaded, unzip the file contents.\n",
    "\n",
    "Once cloned, or downloaded and unpacked, launch a jupyter notebook server with\n",
    "```bash\n",
    "jupyter notebook\n",
    "```\n",
    "which should open a browser window in a directory view. Navigate to the location of the downloaded/cloned notebooks and click a notebook to open it.\n",
    "\n",
    "Within a notebook, use the \"Run\" button to step through each cell and execute. \"CTRL-enter\" will also run the currently selected cell, while \"SHIFT-enter\" will do the same but then move and select the next cell."
   ]
  },
  {
   "cell_type": "markdown",
   "metadata": {},
   "source": [
    "### Non-interactive via the web (HTML, pdf, epub)\n",
    "\n",
    "You can view these notebooks rendered on GitHub at https://github.com/adcroft/Analyzing-ESM-data-with-python . Click on one or each of the `.ipynb` files.\n",
    "\n",
    "The notebooks have also been converted using _nbsphinx_ and are hosted in various forms on _readthedocs_. To see these just follow one of these links:\n",
    "- [HTML](https://analyzing-esm-data-with-python.readthedocs.io/en/latest/)\n",
    "- [pdf](https://readthedocs.org/projects/analyzing-esm-data-with-python/downloads/pdf/latest/)\n",
    "- [epub](https://readthedocs.org/projects/analyzing-esm-data-with-python/downloads/epub/latest/)"
   ]
  },
  {
   "cell_type": "markdown",
   "metadata": {},
   "source": [
    "## Contributing\n",
    "\n",
    "If you find these notes helpful, or error-ridden, feel free to fork the [GitHub repository](https://github.com/adcroft/Analyzing-ESM-data-with-python.git), make changes and let me know with a pull request. And feel free to give your self credit in the text!"
   ]
  },
  {
   "cell_type": "markdown",
   "metadata": {},
   "source": [
    "## Credits\n",
    "\n",
    "- The [Jupyter project](https://jupyter.org/) has transformed the way we work - for the better!\n",
    "- [nbsphinx](https://nbsphinx.readthedocs.io/en/latest/index.html) is a great tool that allows these notes to written in jupyter notebooks and rendered in many other formats.\n",
    "- The Princeton University undergraduate project [M6ASP](https://github.com/M6ASP/getting-started) with many thanks to @estherelle and @karnabhonil."
   ]
  }
 ],
 "metadata": {
  "kernelspec": {
   "display_name": "Python 3",
   "language": "python",
   "name": "python3"
  },
  "language_info": {
   "codemirror_mode": {
    "name": "ipython",
    "version": 3
   },
   "file_extension": ".py",
   "mimetype": "text/x-python",
   "name": "python",
   "nbconvert_exporter": "python",
   "pygments_lexer": "ipython3",
   "version": "3.7.1"
  }
 },
 "nbformat": 4,
 "nbformat_minor": 2
}
