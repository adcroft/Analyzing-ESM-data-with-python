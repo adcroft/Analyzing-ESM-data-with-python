{
 "cells": [
  {
   "cell_type": "markdown",
   "metadata": {},
   "source": [
    "# Introduction\n",
    "\n",
    "The point of these notes is to provide a crash course in using python to examine numerical ocean model output."
   ]
  },
  {
   "cell_type": "markdown",
   "metadata": {},
   "source": [
    "## How to use these notes\n",
    "\n",
    "These notes are written using Jupyter notebooks. You can view or use them in multiple ways; interactively or passively, downloaded or on the web."
   ]
  },
  {
   "cell_type": "markdown",
   "metadata": {},
   "source": [
    "### Interactive jupyter notebooks\n",
    "\n",
    "To be able to run these notebooks you need python - which is the point of the notes! - with jupyter. You will have to clone the repository or download and unpack a zip file.\n",
    "\n",
    "To clone using `git`, you will obviously need `git` installed. Then\n",
    "```bash\n",
    "git clone https://github.com/adcroft/Analyzing-ESM-data-with-python.git\n",
    "```\n",
    "\n",
    "To download a zip file go to https://github.com/adcroft/Analyzing-ESM-data-with-python and click the green \"Clone or download\" button and then \"Download ZIP\", or just click https://github.com/adcroft/Analyzing-ESM-data-with-python/archive/master.zip. Once downloaded, unzip the file contents.\n",
    "\n",
    "Once cloned, or downloaded and unpacked, launch a jupyter notebook server with\n",
    "```bash\n",
    "jupyter notebook\n",
    "```\n",
    "which should open a browser window in a directory view. Navigate to the location of the downloaded/cloned notebooks and click a notebook to open it.\n",
    "\n",
    "Within a notebook, use the \"Run\" button to step through each cell and execute. \"CTRL-enter\" will also run the currently selected cell, while the \"SHIFT-enter\" will do the same but then move to the next cell."
   ]
  },
  {
   "cell_type": "markdown",
   "metadata": {},
   "source": [
    "### Web view\n",
    "\n",
    "The notebooks have been converted using _nbsphinx_ and are hosted in HTML form on _readthedocs_ at https://analyzing-esm-data-with-python.readthedocs.io/en/latest/."
   ]
  },
  {
   "cell_type": "markdown",
   "metadata": {},
   "source": [
    "### Download pdf or epub"
   ]
  },
  {
   "cell_type": "markdown",
   "metadata": {},
   "source": [
    "## Contributing\n",
    "\n",
    "If you find these notes helpful, or error-ridden, feel free to fork the [GitHub repository](https://github.com/adcroft/Analyzing-ESM-data-with-python.git), make changes and let me know with a pull request. And feel free to give your self credit in the text!"
   ]
  }
 ],
 "metadata": {
  "kernelspec": {
   "display_name": "Python 3",
   "language": "python",
   "name": "python3"
  },
  "language_info": {
   "codemirror_mode": {
    "name": "ipython",
    "version": 3
   },
   "file_extension": ".py",
   "mimetype": "text/x-python",
   "name": "python",
   "nbconvert_exporter": "python",
   "pygments_lexer": "ipython3",
   "version": "3.7.1"
  }
 },
 "nbformat": 4,
 "nbformat_minor": 2
}
